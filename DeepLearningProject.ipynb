{
 "cells": [
  {
   "cell_type": "markdown",
   "id": "ebe71042-188c-4c14-8faa-53991775ead7",
   "metadata": {},
   "source": [
    "# Importing Necessary Libraries"
   ]
  },
  {
   "cell_type": "code",
   "execution_count": 29,
   "id": "79e84f68-25a2-4343-bb34-3a0e26096514",
   "metadata": {
    "tags": []
   },
   "outputs": [],
   "source": [
    "import numpy as np\n",
    "import os\n",
    "import cv2\n",
    "import random\n",
    "from PIL import Image\n",
    "import tensorflow as tf\n",
    "from tensorflow.keras.preprocessing.image import img_to_array, load_img, ImageDataGenerator\n",
    "from tensorflow.keras.utils import to_categorical, plot_model\n",
    "from tensorflow.keras.models import Sequential\n",
    "from tensorflow.keras.layers import Conv2D, MaxPooling2D, Flatten, Dense, Dropout, BatchNormalization\n",
    "from tensorflow.keras.regularizers import l2\n",
    "from tensorflow.keras.optimizers import Adam\n",
    "from tensorflow.keras import mixed_precision\n",
    "from sklearn.model_selection import train_test_split\n",
    "from tensorflow.keras.callbacks import EarlyStopping, ReduceLROnPlateau\n",
    "import matplotlib.pyplot as plt"
   ]
  },
  {
   "cell_type": "markdown",
   "id": "cdee3e38-7b75-49f3-bf22-4880619ba5fc",
   "metadata": {},
   "source": [
    "# Defining Helper Functions"
   ]
  },
  {
   "cell_type": "code",
   "execution_count": 30,
   "id": "902c651d-f964-4398-a2db-b30d3a6853ed",
   "metadata": {
    "tags": []
   },
   "outputs": [],
   "source": [
    "def find_Class(directory_path):\n",
    "    if not os.path.exists(directory_path):\n",
    "        raise ValueError(f\"The directory '{directory_path}' does not exist.\")\n",
    "    if not os.path.isdir(directory_path):\n",
    "        raise ValueError(f\"The path '{directory_path}' is not a directory.\")\n",
    "    \n",
    "    # Get a list of all entries in the directory\n",
    "    all_entries = os.listdir(directory_path)\n",
    "    \n",
    "    # Filter out only directories\n",
    "    folders = [entry for entry in all_entries if os.path.isdir(os.path.join(directory_path, entry))]\n",
    "    \n",
    "    return folders"
   ]
  },
  {
   "cell_type": "markdown",
   "id": "637cbdfc-4f89-446e-8777-044b1ae1d759",
   "metadata": {},
   "source": [
    "# Setting Up Directory and Categories"
   ]
  },
  {
   "cell_type": "code",
   "execution_count": 31,
   "id": "29ce252b-aa33-4ee9-8637-3ffc13235092",
   "metadata": {
    "tags": []
   },
   "outputs": [
    {
     "name": "stdout",
     "output_type": "stream",
     "text": [
      "Directories in 'C:/Users/motun/Downloads/CK+_dataset':\n"
     ]
    }
   ],
   "source": [
    "DIRECTORY = r'C:/Users/motun/Downloads/CK+_dataset'\n",
    "CATAGORIES = []\n",
    "try:\n",
    "    folders = find_Class(DIRECTORY)\n",
    "    print(f\"Directories in '{DIRECTORY}':\")\n",
    "    for folder in folders:\n",
    "        CATAGORIES.append(folder)\n",
    "except ValueError as e:\n",
    "    print(e)\n",
    "\n",
    "# Define the image size\n",
    "image_size = (48, 48)\n",
    "\n",
    "# Define your categories and directory\n",
    "CATAGORIES = ['anger', 'contempt', 'disgust', 'fear', 'happy', 'sadness', 'surprise']\n",
    "DIRECTORY = 'C:/Users/motun/Downloads/CK+_dataset'  # Replace with the path to your images"
   ]
  },
  {
   "cell_type": "markdown",
   "id": "9e1b2903-255b-4dee-93fd-55d7217564a1",
   "metadata": {},
   "source": [
    "# Loading and Preprocessing Data"
   ]
  },
  {
   "cell_type": "code",
   "execution_count": 32,
   "id": "2c5ba124-4c33-4654-bdf8-7eba87ff82c6",
   "metadata": {
    "tags": []
   },
   "outputs": [],
   "source": [
    "data = []\n",
    "labels = []\n",
    "\n",
    "for category in CATAGORIES:\n",
    "    folder = os.path.join(DIRECTORY, category)\n",
    "    label = CATAGORIES.index(category)\n",
    "    \n",
    "    for img in os.listdir(folder):\n",
    "        img_path = os.path.join(folder, img)\n",
    "        img_arr = cv2.imread(img_path, cv2.IMREAD_GRAYSCALE)\n",
    "        if img_arr is not None:  # Check if the image is successfully loaded\n",
    "            img_arr = cv2.resize(img_arr, (48, 48))  # Resize to 48x48\n",
    "            data.append(img_arr)\n",
    "            labels.append(label)\n",
    "        else:\n",
    "            print(f\"Failed to load image {img_path}\")\n",
    "            \n",
    "data = np.array(data)\n",
    "labels = np.array(labels)\n",
    "\n",
    "# Normalize the images\n",
    "data = data / 255.0\n",
    "\n",
    "# Add a channel dimension\n",
    "data = np.expand_dims(data, axis=-1)\n",
    "\n",
    "# Convert labels to categorical\n",
    "labels = to_categorical(labels, num_classes=len(CATAGORIES))\n",
    "\n",
    "# Split the data into training and testing sets\n",
    "X_train, X_test, y_train, y_test = train_test_split(data, labels, test_size=0.2, random_state=42)"
   ]
  },
  {
   "cell_type": "markdown",
   "id": "516deaeb-db15-4b3b-a021-6afab758d848",
   "metadata": {},
   "source": [
    "# Data Augmentation"
   ]
  },
  {
   "cell_type": "code",
   "execution_count": 33,
   "id": "4ee3c08f-241c-45c4-9c7e-56b9c535da50",
   "metadata": {
    "tags": []
   },
   "outputs": [],
   "source": [
    "datagen = ImageDataGenerator(\n",
    "    rotation_range=10,\n",
    "    width_shift_range=0.1,\n",
    "    height_shift_range=0.1,\n",
    "    shear_range=0.1,\n",
    "    zoom_range=0.1,\n",
    "    horizontal_flip=True,\n",
    "    fill_mode='nearest'\n",
    ")\n",
    "\n",
    "# Fit the data generator to the training data\n",
    "datagen.fit(X_train)"
   ]
  },
  {
   "cell_type": "markdown",
   "id": "3123d955-d483-4ebd-84e8-70afbb546732",
   "metadata": {},
   "source": [
    "# Enabling Mixed Precision Training"
   ]
  },
  {
   "cell_type": "code",
   "execution_count": 34,
   "id": "b745da18-1c8a-4a91-8e10-4763e648ac91",
   "metadata": {
    "tags": []
   },
   "outputs": [],
   "source": [
    "mixed_precision.set_global_policy('mixed_float16')"
   ]
  },
  {
   "cell_type": "markdown",
   "id": "fc9d0c4b-d294-455c-bd07-a393c3c9b76b",
   "metadata": {},
   "source": [
    "# Defining the Model"
   ]
  },
  {
   "cell_type": "code",
   "execution_count": 35,
   "id": "3d8a33e9-3299-4de3-8041-c0e7a2e0d136",
   "metadata": {
    "tags": []
   },
   "outputs": [
    {
     "data": {
      "text/html": [
       "<pre style=\"white-space:pre;overflow-x:auto;line-height:normal;font-family:Menlo,'DejaVu Sans Mono',consolas,'Courier New',monospace\"><span style=\"font-weight: bold\">Model: \"sequential_3\"</span>\n",
       "</pre>\n"
      ],
      "text/plain": [
       "\u001b[1mModel: \"sequential_3\"\u001b[0m\n"
      ]
     },
     "metadata": {},
     "output_type": "display_data"
    },
    {
     "data": {
      "text/html": [
       "<pre style=\"white-space:pre;overflow-x:auto;line-height:normal;font-family:Menlo,'DejaVu Sans Mono',consolas,'Courier New',monospace\">┏━━━━━━━━━━━━━━━━━━━━━━━━━━━━━━━━━┳━━━━━━━━━━━━━━━━━━━━━━━━┳━━━━━━━━━━━━━━━┓\n",
       "┃<span style=\"font-weight: bold\"> Layer (type)                    </span>┃<span style=\"font-weight: bold\"> Output Shape           </span>┃<span style=\"font-weight: bold\">       Param # </span>┃\n",
       "┡━━━━━━━━━━━━━━━━━━━━━━━━━━━━━━━━━╇━━━━━━━━━━━━━━━━━━━━━━━━╇━━━━━━━━━━━━━━━┩\n",
       "│ conv2d_6 (<span style=\"color: #0087ff; text-decoration-color: #0087ff\">Conv2D</span>)               │ (<span style=\"color: #00d7ff; text-decoration-color: #00d7ff\">None</span>, <span style=\"color: #00af00; text-decoration-color: #00af00\">46</span>, <span style=\"color: #00af00; text-decoration-color: #00af00\">46</span>, <span style=\"color: #00af00; text-decoration-color: #00af00\">32</span>)     │           <span style=\"color: #00af00; text-decoration-color: #00af00\">320</span> │\n",
       "├─────────────────────────────────┼────────────────────────┼───────────────┤\n",
       "│ max_pooling2d_6 (<span style=\"color: #0087ff; text-decoration-color: #0087ff\">MaxPooling2D</span>)  │ (<span style=\"color: #00d7ff; text-decoration-color: #00d7ff\">None</span>, <span style=\"color: #00af00; text-decoration-color: #00af00\">23</span>, <span style=\"color: #00af00; text-decoration-color: #00af00\">23</span>, <span style=\"color: #00af00; text-decoration-color: #00af00\">32</span>)     │             <span style=\"color: #00af00; text-decoration-color: #00af00\">0</span> │\n",
       "├─────────────────────────────────┼────────────────────────┼───────────────┤\n",
       "│ conv2d_7 (<span style=\"color: #0087ff; text-decoration-color: #0087ff\">Conv2D</span>)               │ (<span style=\"color: #00d7ff; text-decoration-color: #00d7ff\">None</span>, <span style=\"color: #00af00; text-decoration-color: #00af00\">21</span>, <span style=\"color: #00af00; text-decoration-color: #00af00\">21</span>, <span style=\"color: #00af00; text-decoration-color: #00af00\">64</span>)     │        <span style=\"color: #00af00; text-decoration-color: #00af00\">18,496</span> │\n",
       "├─────────────────────────────────┼────────────────────────┼───────────────┤\n",
       "│ batch_normalization_7           │ (<span style=\"color: #00d7ff; text-decoration-color: #00d7ff\">None</span>, <span style=\"color: #00af00; text-decoration-color: #00af00\">21</span>, <span style=\"color: #00af00; text-decoration-color: #00af00\">21</span>, <span style=\"color: #00af00; text-decoration-color: #00af00\">64</span>)     │           <span style=\"color: #00af00; text-decoration-color: #00af00\">256</span> │\n",
       "│ (<span style=\"color: #0087ff; text-decoration-color: #0087ff\">BatchNormalization</span>)            │                        │               │\n",
       "├─────────────────────────────────┼────────────────────────┼───────────────┤\n",
       "│ max_pooling2d_7 (<span style=\"color: #0087ff; text-decoration-color: #0087ff\">MaxPooling2D</span>)  │ (<span style=\"color: #00d7ff; text-decoration-color: #00d7ff\">None</span>, <span style=\"color: #00af00; text-decoration-color: #00af00\">10</span>, <span style=\"color: #00af00; text-decoration-color: #00af00\">10</span>, <span style=\"color: #00af00; text-decoration-color: #00af00\">64</span>)     │             <span style=\"color: #00af00; text-decoration-color: #00af00\">0</span> │\n",
       "├─────────────────────────────────┼────────────────────────┼───────────────┤\n",
       "│ flatten_3 (<span style=\"color: #0087ff; text-decoration-color: #0087ff\">Flatten</span>)             │ (<span style=\"color: #00d7ff; text-decoration-color: #00d7ff\">None</span>, <span style=\"color: #00af00; text-decoration-color: #00af00\">6400</span>)           │             <span style=\"color: #00af00; text-decoration-color: #00af00\">0</span> │\n",
       "├─────────────────────────────────┼────────────────────────┼───────────────┤\n",
       "│ dense_8 (<span style=\"color: #0087ff; text-decoration-color: #0087ff\">Dense</span>)                 │ (<span style=\"color: #00d7ff; text-decoration-color: #00d7ff\">None</span>, <span style=\"color: #00af00; text-decoration-color: #00af00\">128</span>)            │       <span style=\"color: #00af00; text-decoration-color: #00af00\">819,328</span> │\n",
       "├─────────────────────────────────┼────────────────────────┼───────────────┤\n",
       "│ batch_normalization_8           │ (<span style=\"color: #00d7ff; text-decoration-color: #00d7ff\">None</span>, <span style=\"color: #00af00; text-decoration-color: #00af00\">128</span>)            │           <span style=\"color: #00af00; text-decoration-color: #00af00\">512</span> │\n",
       "│ (<span style=\"color: #0087ff; text-decoration-color: #0087ff\">BatchNormalization</span>)            │                        │               │\n",
       "├─────────────────────────────────┼────────────────────────┼───────────────┤\n",
       "│ dense_9 (<span style=\"color: #0087ff; text-decoration-color: #0087ff\">Dense</span>)                 │ (<span style=\"color: #00d7ff; text-decoration-color: #00d7ff\">None</span>, <span style=\"color: #00af00; text-decoration-color: #00af00\">7</span>)              │           <span style=\"color: #00af00; text-decoration-color: #00af00\">903</span> │\n",
       "└─────────────────────────────────┴────────────────────────┴───────────────┘\n",
       "</pre>\n"
      ],
      "text/plain": [
       "┏━━━━━━━━━━━━━━━━━━━━━━━━━━━━━━━━━┳━━━━━━━━━━━━━━━━━━━━━━━━┳━━━━━━━━━━━━━━━┓\n",
       "┃\u001b[1m \u001b[0m\u001b[1mLayer (type)                   \u001b[0m\u001b[1m \u001b[0m┃\u001b[1m \u001b[0m\u001b[1mOutput Shape          \u001b[0m\u001b[1m \u001b[0m┃\u001b[1m \u001b[0m\u001b[1m      Param #\u001b[0m\u001b[1m \u001b[0m┃\n",
       "┡━━━━━━━━━━━━━━━━━━━━━━━━━━━━━━━━━╇━━━━━━━━━━━━━━━━━━━━━━━━╇━━━━━━━━━━━━━━━┩\n",
       "│ conv2d_6 (\u001b[38;5;33mConv2D\u001b[0m)               │ (\u001b[38;5;45mNone\u001b[0m, \u001b[38;5;34m46\u001b[0m, \u001b[38;5;34m46\u001b[0m, \u001b[38;5;34m32\u001b[0m)     │           \u001b[38;5;34m320\u001b[0m │\n",
       "├─────────────────────────────────┼────────────────────────┼───────────────┤\n",
       "│ max_pooling2d_6 (\u001b[38;5;33mMaxPooling2D\u001b[0m)  │ (\u001b[38;5;45mNone\u001b[0m, \u001b[38;5;34m23\u001b[0m, \u001b[38;5;34m23\u001b[0m, \u001b[38;5;34m32\u001b[0m)     │             \u001b[38;5;34m0\u001b[0m │\n",
       "├─────────────────────────────────┼────────────────────────┼───────────────┤\n",
       "│ conv2d_7 (\u001b[38;5;33mConv2D\u001b[0m)               │ (\u001b[38;5;45mNone\u001b[0m, \u001b[38;5;34m21\u001b[0m, \u001b[38;5;34m21\u001b[0m, \u001b[38;5;34m64\u001b[0m)     │        \u001b[38;5;34m18,496\u001b[0m │\n",
       "├─────────────────────────────────┼────────────────────────┼───────────────┤\n",
       "│ batch_normalization_7           │ (\u001b[38;5;45mNone\u001b[0m, \u001b[38;5;34m21\u001b[0m, \u001b[38;5;34m21\u001b[0m, \u001b[38;5;34m64\u001b[0m)     │           \u001b[38;5;34m256\u001b[0m │\n",
       "│ (\u001b[38;5;33mBatchNormalization\u001b[0m)            │                        │               │\n",
       "├─────────────────────────────────┼────────────────────────┼───────────────┤\n",
       "│ max_pooling2d_7 (\u001b[38;5;33mMaxPooling2D\u001b[0m)  │ (\u001b[38;5;45mNone\u001b[0m, \u001b[38;5;34m10\u001b[0m, \u001b[38;5;34m10\u001b[0m, \u001b[38;5;34m64\u001b[0m)     │             \u001b[38;5;34m0\u001b[0m │\n",
       "├─────────────────────────────────┼────────────────────────┼───────────────┤\n",
       "│ flatten_3 (\u001b[38;5;33mFlatten\u001b[0m)             │ (\u001b[38;5;45mNone\u001b[0m, \u001b[38;5;34m6400\u001b[0m)           │             \u001b[38;5;34m0\u001b[0m │\n",
       "├─────────────────────────────────┼────────────────────────┼───────────────┤\n",
       "│ dense_8 (\u001b[38;5;33mDense\u001b[0m)                 │ (\u001b[38;5;45mNone\u001b[0m, \u001b[38;5;34m128\u001b[0m)            │       \u001b[38;5;34m819,328\u001b[0m │\n",
       "├─────────────────────────────────┼────────────────────────┼───────────────┤\n",
       "│ batch_normalization_8           │ (\u001b[38;5;45mNone\u001b[0m, \u001b[38;5;34m128\u001b[0m)            │           \u001b[38;5;34m512\u001b[0m │\n",
       "│ (\u001b[38;5;33mBatchNormalization\u001b[0m)            │                        │               │\n",
       "├─────────────────────────────────┼────────────────────────┼───────────────┤\n",
       "│ dense_9 (\u001b[38;5;33mDense\u001b[0m)                 │ (\u001b[38;5;45mNone\u001b[0m, \u001b[38;5;34m7\u001b[0m)              │           \u001b[38;5;34m903\u001b[0m │\n",
       "└─────────────────────────────────┴────────────────────────┴───────────────┘\n"
      ]
     },
     "metadata": {},
     "output_type": "display_data"
    },
    {
     "data": {
      "text/html": [
       "<pre style=\"white-space:pre;overflow-x:auto;line-height:normal;font-family:Menlo,'DejaVu Sans Mono',consolas,'Courier New',monospace\"><span style=\"font-weight: bold\"> Total params: </span><span style=\"color: #00af00; text-decoration-color: #00af00\">839,815</span> (3.20 MB)\n",
       "</pre>\n"
      ],
      "text/plain": [
       "\u001b[1m Total params: \u001b[0m\u001b[38;5;34m839,815\u001b[0m (3.20 MB)\n"
      ]
     },
     "metadata": {},
     "output_type": "display_data"
    },
    {
     "data": {
      "text/html": [
       "<pre style=\"white-space:pre;overflow-x:auto;line-height:normal;font-family:Menlo,'DejaVu Sans Mono',consolas,'Courier New',monospace\"><span style=\"font-weight: bold\"> Trainable params: </span><span style=\"color: #00af00; text-decoration-color: #00af00\">839,431</span> (3.20 MB)\n",
       "</pre>\n"
      ],
      "text/plain": [
       "\u001b[1m Trainable params: \u001b[0m\u001b[38;5;34m839,431\u001b[0m (3.20 MB)\n"
      ]
     },
     "metadata": {},
     "output_type": "display_data"
    },
    {
     "data": {
      "text/html": [
       "<pre style=\"white-space:pre;overflow-x:auto;line-height:normal;font-family:Menlo,'DejaVu Sans Mono',consolas,'Courier New',monospace\"><span style=\"font-weight: bold\"> Non-trainable params: </span><span style=\"color: #00af00; text-decoration-color: #00af00\">384</span> (1.50 KB)\n",
       "</pre>\n"
      ],
      "text/plain": [
       "\u001b[1m Non-trainable params: \u001b[0m\u001b[38;5;34m384\u001b[0m (1.50 KB)\n"
      ]
     },
     "metadata": {},
     "output_type": "display_data"
    }
   ],
   "source": [
    "# Define the model\n",
    "model = Sequential()\n",
    "\n",
    "# Add convolutional layers with input shape specified in the first layer\n",
    "model.add(Conv2D(32, kernel_size=(3, 3), activation='relu', input_shape=(48, 48, 1)))\n",
    "model.add(MaxPooling2D(pool_size=(2, 2)))\n",
    "\n",
    "model.add(Conv2D(64, (3, 3), activation='relu', kernel_regularizer=l2(0.01)))\n",
    "model.add(BatchNormalization())\n",
    "model.add(MaxPooling2D(pool_size=(2, 2)))\n",
    "\n",
    "# Add a flatten layer\n",
    "model.add(Flatten())\n",
    "\n",
    "# Add fully connected layers\n",
    "model.add(Dense(128, activation='relu', kernel_regularizer=l2(0.01)))\n",
    "model.add(BatchNormalization())\n",
    "#model.add(Dropout(0.5))\n",
    "\n",
    "# Add output layer\n",
    "model.add(Dense(len(CATAGORIES), activation='softmax'))\n",
    "\n",
    "# Compile the model\n",
    "model.compile(optimizer=Adam(learning_rate=0.0001), loss='categorical_crossentropy', metrics=['accuracy'])\n",
    "\n",
    "# Print the model summary\n",
    "model.summary()"
   ]
  },
  {
   "cell_type": "markdown",
   "id": "6d05a8ed-dd8a-4ca8-bc9b-660ae2335310",
   "metadata": {},
   "source": [
    "# Defining Callbacks"
   ]
  },
  {
   "cell_type": "code",
   "execution_count": 36,
   "id": "88e983fb-a8d7-4897-845f-8e0cbb51ea34",
   "metadata": {
    "tags": []
   },
   "outputs": [],
   "source": [
    "# Early stopping to prevent overfitting\n",
    "early_stopping = EarlyStopping(monitor='val_loss', patience=10, restore_best_weights=True)\n",
    "\n",
    "# Learning rate scheduler\n",
    "reduce_lr = ReduceLROnPlateau(monitor='val_loss', factor=0.2, patience=5, min_lr=0.00001)"
   ]
  },
  {
   "cell_type": "markdown",
   "id": "70aa5013-331c-41ec-ae2f-418b2bf71cfd",
   "metadata": {},
   "source": [
    "# Training the Model"
   ]
  },
  {
   "cell_type": "code",
   "execution_count": 27,
   "id": "40f98ad2-1026-42df-9ef6-035fc818f950",
   "metadata": {
    "tags": []
   },
   "outputs": [
    {
     "name": "stdout",
     "output_type": "stream",
     "text": [
      "Epoch 1/100\n",
      "\u001b[1m13/13\u001b[0m \u001b[32m━━━━━━━━━━━━━━━━━━━━\u001b[0m\u001b[37m\u001b[0m \u001b[1m11s\u001b[0m 626ms/step - accuracy: 0.2063 - loss: 5.1877 - val_accuracy: 0.2741 - val_loss: 4.7453 - learning_rate: 1.0000e-04\n",
      "Epoch 2/100\n",
      "\u001b[1m13/13\u001b[0m \u001b[32m━━━━━━━━━━━━━━━━━━━━\u001b[0m\u001b[37m\u001b[0m \u001b[1m8s\u001b[0m 624ms/step - accuracy: 0.3734 - loss: 4.5431 - val_accuracy: 0.1218 - val_loss: 4.6850 - learning_rate: 1.0000e-04\n",
      "Epoch 3/100\n",
      "\u001b[1m13/13\u001b[0m \u001b[32m━━━━━━━━━━━━━━━━━━━━\u001b[0m\u001b[37m\u001b[0m \u001b[1m9s\u001b[0m 648ms/step - accuracy: 0.4783 - loss: 4.1548 - val_accuracy: 0.1269 - val_loss: 4.6413 - learning_rate: 1.0000e-04\n",
      "Epoch 4/100\n",
      "\u001b[1m13/13\u001b[0m \u001b[32m━━━━━━━━━━━━━━━━━━━━\u001b[0m\u001b[37m\u001b[0m \u001b[1m8s\u001b[0m 630ms/step - accuracy: 0.5622 - loss: 3.9338 - val_accuracy: 0.1574 - val_loss: 4.6104 - learning_rate: 1.0000e-04\n",
      "Epoch 5/100\n",
      "\u001b[1m13/13\u001b[0m \u001b[32m━━━━━━━━━━━━━━━━━━━━\u001b[0m\u001b[37m\u001b[0m \u001b[1m8s\u001b[0m 637ms/step - accuracy: 0.6268 - loss: 3.6876 - val_accuracy: 0.1574 - val_loss: 4.6235 - learning_rate: 1.0000e-04\n",
      "Epoch 6/100\n",
      "\u001b[1m13/13\u001b[0m \u001b[32m━━━━━━━━━━━━━━━━━━━━\u001b[0m\u001b[37m\u001b[0m \u001b[1m8s\u001b[0m 634ms/step - accuracy: 0.6510 - loss: 3.5622 - val_accuracy: 0.1827 - val_loss: 4.6169 - learning_rate: 1.0000e-04\n",
      "Epoch 7/100\n",
      "\u001b[1m13/13\u001b[0m \u001b[32m━━━━━━━━━━━━━━━━━━━━\u001b[0m\u001b[37m\u001b[0m \u001b[1m8s\u001b[0m 632ms/step - accuracy: 0.6681 - loss: 3.4681 - val_accuracy: 0.1523 - val_loss: 4.6104 - learning_rate: 1.0000e-04\n",
      "Epoch 8/100\n",
      "\u001b[1m13/13\u001b[0m \u001b[32m━━━━━━━━━━━━━━━━━━━━\u001b[0m\u001b[37m\u001b[0m \u001b[1m9s\u001b[0m 700ms/step - accuracy: 0.6807 - loss: 3.3710 - val_accuracy: 0.1675 - val_loss: 4.6055 - learning_rate: 1.0000e-04\n",
      "Epoch 9/100\n",
      "\u001b[1m13/13\u001b[0m \u001b[32m━━━━━━━━━━━━━━━━━━━━\u001b[0m\u001b[37m\u001b[0m \u001b[1m8s\u001b[0m 638ms/step - accuracy: 0.6993 - loss: 3.2138 - val_accuracy: 0.1675 - val_loss: 4.5432 - learning_rate: 1.0000e-04\n",
      "Epoch 10/100\n",
      "\u001b[1m13/13\u001b[0m \u001b[32m━━━━━━━━━━━━━━━━━━━━\u001b[0m\u001b[37m\u001b[0m \u001b[1m8s\u001b[0m 641ms/step - accuracy: 0.7059 - loss: 3.1801 - val_accuracy: 0.1980 - val_loss: 4.5463 - learning_rate: 1.0000e-04\n",
      "Epoch 11/100\n",
      "\u001b[1m13/13\u001b[0m \u001b[32m━━━━━━━━━━━━━━━━━━━━\u001b[0m\u001b[37m\u001b[0m \u001b[1m8s\u001b[0m 633ms/step - accuracy: 0.7362 - loss: 3.1002 - val_accuracy: 0.1574 - val_loss: 4.5347 - learning_rate: 1.0000e-04\n",
      "Epoch 12/100\n",
      "\u001b[1m13/13\u001b[0m \u001b[32m━━━━━━━━━━━━━━━━━━━━\u001b[0m\u001b[37m\u001b[0m \u001b[1m8s\u001b[0m 638ms/step - accuracy: 0.7678 - loss: 2.9874 - val_accuracy: 0.1624 - val_loss: 4.5142 - learning_rate: 1.0000e-04\n",
      "Epoch 13/100\n",
      "\u001b[1m13/13\u001b[0m \u001b[32m━━━━━━━━━━━━━━━━━━━━\u001b[0m\u001b[37m\u001b[0m \u001b[1m8s\u001b[0m 631ms/step - accuracy: 0.7502 - loss: 2.9656 - val_accuracy: 0.1675 - val_loss: 4.4780 - learning_rate: 1.0000e-04\n",
      "Epoch 14/100\n",
      "\u001b[1m13/13\u001b[0m \u001b[32m━━━━━━━━━━━━━━━━━━━━\u001b[0m\u001b[37m\u001b[0m \u001b[1m9s\u001b[0m 646ms/step - accuracy: 0.7655 - loss: 2.9259 - val_accuracy: 0.1929 - val_loss: 4.4253 - learning_rate: 1.0000e-04\n",
      "Epoch 15/100\n",
      "\u001b[1m13/13\u001b[0m \u001b[32m━━━━━━━━━━━━━━━━━━━━\u001b[0m\u001b[37m\u001b[0m \u001b[1m9s\u001b[0m 643ms/step - accuracy: 0.7623 - loss: 2.8507 - val_accuracy: 0.2132 - val_loss: 4.3678 - learning_rate: 1.0000e-04\n",
      "Epoch 16/100\n",
      "\u001b[1m13/13\u001b[0m \u001b[32m━━━━━━━━━━━━━━━━━━━━\u001b[0m\u001b[37m\u001b[0m \u001b[1m9s\u001b[0m 650ms/step - accuracy: 0.7766 - loss: 2.8189 - val_accuracy: 0.1421 - val_loss: 4.3229 - learning_rate: 1.0000e-04\n",
      "Epoch 17/100\n",
      "\u001b[1m13/13\u001b[0m \u001b[32m━━━━━━━━━━━━━━━━━━━━\u001b[0m\u001b[37m\u001b[0m \u001b[1m8s\u001b[0m 623ms/step - accuracy: 0.8213 - loss: 2.7045 - val_accuracy: 0.1624 - val_loss: 4.2984 - learning_rate: 1.0000e-04\n",
      "Epoch 18/100\n",
      "\u001b[1m13/13\u001b[0m \u001b[32m━━━━━━━━━━━━━━━━━━━━\u001b[0m\u001b[37m\u001b[0m \u001b[1m8s\u001b[0m 632ms/step - accuracy: 0.7950 - loss: 2.7301 - val_accuracy: 0.2690 - val_loss: 4.2415 - learning_rate: 1.0000e-04\n",
      "Epoch 19/100\n",
      "\u001b[1m13/13\u001b[0m \u001b[32m━━━━━━━━━━━━━━━━━━━━\u001b[0m\u001b[37m\u001b[0m \u001b[1m8s\u001b[0m 627ms/step - accuracy: 0.8046 - loss: 2.6786 - val_accuracy: 0.3046 - val_loss: 4.1596 - learning_rate: 1.0000e-04\n",
      "Epoch 20/100\n",
      "\u001b[1m13/13\u001b[0m \u001b[32m━━━━━━━━━━━━━━━━━━━━\u001b[0m\u001b[37m\u001b[0m \u001b[1m9s\u001b[0m 641ms/step - accuracy: 0.8430 - loss: 2.5742 - val_accuracy: 0.3147 - val_loss: 4.1471 - learning_rate: 1.0000e-04\n",
      "Epoch 21/100\n",
      "\u001b[1m13/13\u001b[0m \u001b[32m━━━━━━━━━━━━━━━━━━━━\u001b[0m\u001b[37m\u001b[0m \u001b[1m8s\u001b[0m 629ms/step - accuracy: 0.8376 - loss: 2.5807 - val_accuracy: 0.4264 - val_loss: 4.0425 - learning_rate: 1.0000e-04\n",
      "Epoch 22/100\n",
      "\u001b[1m13/13\u001b[0m \u001b[32m━━━━━━━━━━━━━━━━━━━━\u001b[0m\u001b[37m\u001b[0m \u001b[1m9s\u001b[0m 651ms/step - accuracy: 0.8502 - loss: 2.5600 - val_accuracy: 0.4061 - val_loss: 3.9492 - learning_rate: 1.0000e-04\n",
      "Epoch 23/100\n",
      "\u001b[1m13/13\u001b[0m \u001b[32m━━━━━━━━━━━━━━━━━━━━\u001b[0m\u001b[37m\u001b[0m \u001b[1m8s\u001b[0m 640ms/step - accuracy: 0.8345 - loss: 2.5478 - val_accuracy: 0.4010 - val_loss: 3.9753 - learning_rate: 1.0000e-04\n",
      "Epoch 24/100\n",
      "\u001b[1m13/13\u001b[0m \u001b[32m━━━━━━━━━━━━━━━━━━━━\u001b[0m\u001b[37m\u001b[0m \u001b[1m9s\u001b[0m 647ms/step - accuracy: 0.8503 - loss: 2.4739 - val_accuracy: 0.4213 - val_loss: 3.8915 - learning_rate: 1.0000e-04\n",
      "Epoch 25/100\n",
      "\u001b[1m13/13\u001b[0m \u001b[32m━━━━━━━━━━━━━━━━━━━━\u001b[0m\u001b[37m\u001b[0m \u001b[1m8s\u001b[0m 678ms/step - accuracy: 0.8316 - loss: 2.4735 - val_accuracy: 0.4315 - val_loss: 3.8210 - learning_rate: 1.0000e-04\n",
      "Epoch 26/100\n",
      "\u001b[1m13/13\u001b[0m \u001b[32m━━━━━━━━━━━━━━━━━━━━\u001b[0m\u001b[37m\u001b[0m \u001b[1m8s\u001b[0m 632ms/step - accuracy: 0.8356 - loss: 2.4487 - val_accuracy: 0.4569 - val_loss: 3.6622 - learning_rate: 1.0000e-04\n",
      "Epoch 27/100\n",
      "\u001b[1m13/13\u001b[0m \u001b[32m━━━━━━━━━━━━━━━━━━━━\u001b[0m\u001b[37m\u001b[0m \u001b[1m9s\u001b[0m 647ms/step - accuracy: 0.8501 - loss: 2.4123 - val_accuracy: 0.4518 - val_loss: 3.6127 - learning_rate: 1.0000e-04\n",
      "Epoch 28/100\n",
      "\u001b[1m13/13\u001b[0m \u001b[32m━━━━━━━━━━━━━━━━━━━━\u001b[0m\u001b[37m\u001b[0m \u001b[1m8s\u001b[0m 624ms/step - accuracy: 0.8718 - loss: 2.3716 - val_accuracy: 0.4619 - val_loss: 3.5636 - learning_rate: 1.0000e-04\n",
      "Epoch 29/100\n",
      "\u001b[1m13/13\u001b[0m \u001b[32m━━━━━━━━━━━━━━━━━━━━\u001b[0m\u001b[37m\u001b[0m \u001b[1m9s\u001b[0m 692ms/step - accuracy: 0.8740 - loss: 2.3540 - val_accuracy: 0.4518 - val_loss: 3.4591 - learning_rate: 1.0000e-04\n",
      "Epoch 30/100\n",
      "\u001b[1m13/13\u001b[0m \u001b[32m━━━━━━━━━━━━━━━━━━━━\u001b[0m\u001b[37m\u001b[0m \u001b[1m8s\u001b[0m 629ms/step - accuracy: 0.8597 - loss: 2.3760 - val_accuracy: 0.4416 - val_loss: 3.4264 - learning_rate: 1.0000e-04\n",
      "Epoch 31/100\n",
      "\u001b[1m13/13\u001b[0m \u001b[32m━━━━━━━━━━━━━━━━━━━━\u001b[0m\u001b[37m\u001b[0m \u001b[1m9s\u001b[0m 649ms/step - accuracy: 0.8627 - loss: 2.3197 - val_accuracy: 0.4772 - val_loss: 3.3322 - learning_rate: 1.0000e-04\n",
      "Epoch 32/100\n",
      "\u001b[1m13/13\u001b[0m \u001b[32m━━━━━━━━━━━━━━━━━━━━\u001b[0m\u001b[37m\u001b[0m \u001b[1m8s\u001b[0m 637ms/step - accuracy: 0.8726 - loss: 2.3130 - val_accuracy: 0.6041 - val_loss: 3.0988 - learning_rate: 1.0000e-04\n",
      "Epoch 33/100\n",
      "\u001b[1m13/13\u001b[0m \u001b[32m━━━━━━━━━━━━━━━━━━━━\u001b[0m\u001b[37m\u001b[0m \u001b[1m9s\u001b[0m 652ms/step - accuracy: 0.8911 - loss: 2.2396 - val_accuracy: 0.5482 - val_loss: 3.1775 - learning_rate: 1.0000e-04\n",
      "Epoch 34/100\n",
      "\u001b[1m13/13\u001b[0m \u001b[32m━━━━━━━━━━━━━━━━━━━━\u001b[0m\u001b[37m\u001b[0m \u001b[1m8s\u001b[0m 633ms/step - accuracy: 0.8743 - loss: 2.2763 - val_accuracy: 0.5939 - val_loss: 3.0217 - learning_rate: 1.0000e-04\n",
      "Epoch 35/100\n",
      "\u001b[1m13/13\u001b[0m \u001b[32m━━━━━━━━━━━━━━━━━━━━\u001b[0m\u001b[37m\u001b[0m \u001b[1m9s\u001b[0m 660ms/step - accuracy: 0.8768 - loss: 2.2172 - val_accuracy: 0.5888 - val_loss: 2.9573 - learning_rate: 1.0000e-04\n",
      "Epoch 36/100\n",
      "\u001b[1m13/13\u001b[0m \u001b[32m━━━━━━━━━━━━━━━━━━━━\u001b[0m\u001b[37m\u001b[0m \u001b[1m9s\u001b[0m 688ms/step - accuracy: 0.9086 - loss: 2.1366 - val_accuracy: 0.7005 - val_loss: 2.8073 - learning_rate: 1.0000e-04\n",
      "Epoch 37/100\n",
      "\u001b[1m13/13\u001b[0m \u001b[32m━━━━━━━━━━━━━━━━━━━━\u001b[0m\u001b[37m\u001b[0m \u001b[1m9s\u001b[0m 750ms/step - accuracy: 0.8971 - loss: 2.1874 - val_accuracy: 0.6548 - val_loss: 2.8478 - learning_rate: 1.0000e-04\n",
      "Epoch 38/100\n",
      "\u001b[1m13/13\u001b[0m \u001b[32m━━━━━━━━━━━━━━━━━━━━\u001b[0m\u001b[37m\u001b[0m \u001b[1m8s\u001b[0m 635ms/step - accuracy: 0.8471 - loss: 2.2429 - val_accuracy: 0.7513 - val_loss: 2.6133 - learning_rate: 1.0000e-04\n",
      "Epoch 39/100\n",
      "\u001b[1m13/13\u001b[0m \u001b[32m━━━━━━━━━━━━━━━━━━━━\u001b[0m\u001b[37m\u001b[0m \u001b[1m14704s\u001b[0m 1225s/step - accuracy: 0.8418 - loss: 2.2266 - val_accuracy: 0.7614 - val_loss: 2.5996 - learning_rate: 1.0000e-04\n",
      "Epoch 40/100\n",
      "\u001b[1m13/13\u001b[0m \u001b[32m━━━━━━━━━━━━━━━━━━━━\u001b[0m\u001b[37m\u001b[0m \u001b[1m13s\u001b[0m 993ms/step - accuracy: 0.9000 - loss: 2.1372 - val_accuracy: 0.7817 - val_loss: 2.5018 - learning_rate: 1.0000e-04\n",
      "Epoch 41/100\n",
      "\u001b[1m13/13\u001b[0m \u001b[32m━━━━━━━━━━━━━━━━━━━━\u001b[0m\u001b[37m\u001b[0m \u001b[1m12s\u001b[0m 859ms/step - accuracy: 0.8896 - loss: 2.1001 - val_accuracy: 0.7665 - val_loss: 2.5104 - learning_rate: 1.0000e-04\n",
      "Epoch 42/100\n",
      "\u001b[1m13/13\u001b[0m \u001b[32m━━━━━━━━━━━━━━━━━━━━\u001b[0m\u001b[37m\u001b[0m \u001b[1m10s\u001b[0m 756ms/step - accuracy: 0.8933 - loss: 2.0677 - val_accuracy: 0.7868 - val_loss: 2.4655 - learning_rate: 1.0000e-04\n",
      "Epoch 43/100\n",
      "\u001b[1m13/13\u001b[0m \u001b[32m━━━━━━━━━━━━━━━━━━━━\u001b[0m\u001b[37m\u001b[0m \u001b[1m10s\u001b[0m 750ms/step - accuracy: 0.8871 - loss: 2.0899 - val_accuracy: 0.7411 - val_loss: 2.5014 - learning_rate: 1.0000e-04\n",
      "Epoch 44/100\n",
      "\u001b[1m13/13\u001b[0m \u001b[32m━━━━━━━━━━━━━━━━━━━━\u001b[0m\u001b[37m\u001b[0m \u001b[1m10s\u001b[0m 717ms/step - accuracy: 0.9084 - loss: 2.0490 - val_accuracy: 0.8071 - val_loss: 2.4101 - learning_rate: 1.0000e-04\n",
      "Epoch 45/100\n",
      "\u001b[1m13/13\u001b[0m \u001b[32m━━━━━━━━━━━━━━━━━━━━\u001b[0m\u001b[37m\u001b[0m \u001b[1m9s\u001b[0m 681ms/step - accuracy: 0.9005 - loss: 2.0600 - val_accuracy: 0.8325 - val_loss: 2.2892 - learning_rate: 1.0000e-04\n",
      "Epoch 46/100\n",
      "\u001b[1m13/13\u001b[0m \u001b[32m━━━━━━━━━━━━━━━━━━━━\u001b[0m\u001b[37m\u001b[0m \u001b[1m9s\u001b[0m 689ms/step - accuracy: 0.9077 - loss: 2.0057 - val_accuracy: 0.8934 - val_loss: 2.1947 - learning_rate: 1.0000e-04\n",
      "Epoch 47/100\n",
      "\u001b[1m13/13\u001b[0m \u001b[32m━━━━━━━━━━━━━━━━━━━━\u001b[0m\u001b[37m\u001b[0m \u001b[1m9s\u001b[0m 692ms/step - accuracy: 0.9044 - loss: 1.9966 - val_accuracy: 0.8832 - val_loss: 2.2174 - learning_rate: 1.0000e-04\n",
      "Epoch 48/100\n",
      "\u001b[1m13/13\u001b[0m \u001b[32m━━━━━━━━━━━━━━━━━━━━\u001b[0m\u001b[37m\u001b[0m \u001b[1m9s\u001b[0m 694ms/step - accuracy: 0.9147 - loss: 1.9717 - val_accuracy: 0.8985 - val_loss: 2.0996 - learning_rate: 1.0000e-04\n",
      "Epoch 49/100\n",
      "\u001b[1m13/13\u001b[0m \u001b[32m━━━━━━━━━━━━━━━━━━━━\u001b[0m\u001b[37m\u001b[0m \u001b[1m9s\u001b[0m 677ms/step - accuracy: 0.9218 - loss: 1.9484 - val_accuracy: 0.8629 - val_loss: 2.1266 - learning_rate: 1.0000e-04\n",
      "Epoch 50/100\n",
      "\u001b[1m13/13\u001b[0m \u001b[32m━━━━━━━━━━━━━━━━━━━━\u001b[0m\u001b[37m\u001b[0m \u001b[1m9s\u001b[0m 653ms/step - accuracy: 0.9221 - loss: 1.9519 - val_accuracy: 0.8680 - val_loss: 2.1031 - learning_rate: 1.0000e-04\n",
      "Epoch 51/100\n",
      "\u001b[1m13/13\u001b[0m \u001b[32m━━━━━━━━━━━━━━━━━━━━\u001b[0m\u001b[37m\u001b[0m \u001b[1m9s\u001b[0m 655ms/step - accuracy: 0.8986 - loss: 1.9637 - val_accuracy: 0.8680 - val_loss: 2.0495 - learning_rate: 1.0000e-04\n",
      "Epoch 52/100\n",
      "\u001b[1m13/13\u001b[0m \u001b[32m━━━━━━━━━━━━━━━━━━━━\u001b[0m\u001b[37m\u001b[0m \u001b[1m9s\u001b[0m 649ms/step - accuracy: 0.9168 - loss: 1.9253 - val_accuracy: 0.8477 - val_loss: 2.1006 - learning_rate: 1.0000e-04\n",
      "Epoch 53/100\n",
      "\u001b[1m13/13\u001b[0m \u001b[32m━━━━━━━━━━━━━━━━━━━━\u001b[0m\u001b[37m\u001b[0m \u001b[1m9s\u001b[0m 654ms/step - accuracy: 0.9157 - loss: 1.9070 - val_accuracy: 0.8579 - val_loss: 2.0804 - learning_rate: 1.0000e-04\n",
      "Epoch 54/100\n",
      "\u001b[1m13/13\u001b[0m \u001b[32m━━━━━━━━━━━━━━━━━━━━\u001b[0m\u001b[37m\u001b[0m \u001b[1m9s\u001b[0m 642ms/step - accuracy: 0.9203 - loss: 1.8978 - val_accuracy: 0.8579 - val_loss: 2.0312 - learning_rate: 1.0000e-04\n",
      "Epoch 55/100\n",
      "\u001b[1m13/13\u001b[0m \u001b[32m━━━━━━━━━━━━━━━━━━━━\u001b[0m\u001b[37m\u001b[0m \u001b[1m9s\u001b[0m 657ms/step - accuracy: 0.9243 - loss: 1.8762 - val_accuracy: 0.9137 - val_loss: 1.9303 - learning_rate: 1.0000e-04\n",
      "Epoch 56/100\n",
      "\u001b[1m13/13\u001b[0m \u001b[32m━━━━━━━━━━━━━━━━━━━━\u001b[0m\u001b[37m\u001b[0m \u001b[1m9s\u001b[0m 644ms/step - accuracy: 0.9192 - loss: 1.8760 - val_accuracy: 0.7005 - val_loss: 2.3282 - learning_rate: 1.0000e-04\n",
      "Epoch 57/100\n",
      "\u001b[1m13/13\u001b[0m \u001b[32m━━━━━━━━━━━━━━━━━━━━\u001b[0m\u001b[37m\u001b[0m \u001b[1m8s\u001b[0m 644ms/step - accuracy: 0.9100 - loss: 1.8858 - val_accuracy: 0.8832 - val_loss: 1.9150 - learning_rate: 1.0000e-04\n",
      "Epoch 58/100\n",
      "\u001b[1m13/13\u001b[0m \u001b[32m━━━━━━━━━━━━━━━━━━━━\u001b[0m\u001b[37m\u001b[0m \u001b[1m8s\u001b[0m 625ms/step - accuracy: 0.9039 - loss: 1.8676 - val_accuracy: 0.8731 - val_loss: 2.0058 - learning_rate: 1.0000e-04\n",
      "Epoch 59/100\n",
      "\u001b[1m13/13\u001b[0m \u001b[32m━━━━━━━━━━━━━━━━━━━━\u001b[0m\u001b[37m\u001b[0m \u001b[1m9s\u001b[0m 648ms/step - accuracy: 0.9291 - loss: 1.8231 - val_accuracy: 0.8883 - val_loss: 1.8868 - learning_rate: 1.0000e-04\n",
      "Epoch 60/100\n",
      "\u001b[1m13/13\u001b[0m \u001b[32m━━━━━━━━━━━━━━━━━━━━\u001b[0m\u001b[37m\u001b[0m \u001b[1m8s\u001b[0m 629ms/step - accuracy: 0.9390 - loss: 1.7986 - val_accuracy: 0.8782 - val_loss: 1.8986 - learning_rate: 1.0000e-04\n",
      "Epoch 61/100\n",
      "\u001b[1m13/13\u001b[0m \u001b[32m━━━━━━━━━━━━━━━━━━━━\u001b[0m\u001b[37m\u001b[0m \u001b[1m9s\u001b[0m 684ms/step - accuracy: 0.9133 - loss: 1.7979 - val_accuracy: 0.8832 - val_loss: 1.9087 - learning_rate: 1.0000e-04\n",
      "Epoch 62/100\n",
      "\u001b[1m13/13\u001b[0m \u001b[32m━━━━━━━━━━━━━━━━━━━━\u001b[0m\u001b[37m\u001b[0m \u001b[1m8s\u001b[0m 628ms/step - accuracy: 0.9329 - loss: 1.7663 - val_accuracy: 0.8883 - val_loss: 1.8731 - learning_rate: 1.0000e-04\n",
      "Epoch 63/100\n",
      "\u001b[1m13/13\u001b[0m \u001b[32m━━━━━━━━━━━━━━━━━━━━\u001b[0m\u001b[37m\u001b[0m \u001b[1m9s\u001b[0m 661ms/step - accuracy: 0.9372 - loss: 1.7608 - val_accuracy: 0.9340 - val_loss: 1.7946 - learning_rate: 1.0000e-04\n",
      "Epoch 64/100\n",
      "\u001b[1m13/13\u001b[0m \u001b[32m━━━━━━━━━━━━━━━━━━━━\u001b[0m\u001b[37m\u001b[0m \u001b[1m8s\u001b[0m 630ms/step - accuracy: 0.9339 - loss: 1.7571 - val_accuracy: 0.9289 - val_loss: 1.7735 - learning_rate: 1.0000e-04\n",
      "Epoch 65/100\n",
      "\u001b[1m13/13\u001b[0m \u001b[32m━━━━━━━━━━━━━━━━━━━━\u001b[0m\u001b[37m\u001b[0m \u001b[1m8s\u001b[0m 630ms/step - accuracy: 0.9479 - loss: 1.7481 - val_accuracy: 0.9188 - val_loss: 1.7734 - learning_rate: 1.0000e-04\n",
      "Epoch 66/100\n",
      "\u001b[1m13/13\u001b[0m \u001b[32m━━━━━━━━━━━━━━━━━━━━\u001b[0m\u001b[37m\u001b[0m \u001b[1m8s\u001b[0m 638ms/step - accuracy: 0.9473 - loss: 1.7237 - val_accuracy: 0.8528 - val_loss: 1.8573 - learning_rate: 1.0000e-04\n",
      "Epoch 67/100\n",
      "\u001b[1m13/13\u001b[0m \u001b[32m━━━━━━━━━━━━━━━━━━━━\u001b[0m\u001b[37m\u001b[0m \u001b[1m8s\u001b[0m 624ms/step - accuracy: 0.9492 - loss: 1.7119 - val_accuracy: 0.8426 - val_loss: 1.8663 - learning_rate: 1.0000e-04\n",
      "Epoch 68/100\n",
      "\u001b[1m13/13\u001b[0m \u001b[32m━━━━━━━━━━━━━━━━━━━━\u001b[0m\u001b[37m\u001b[0m \u001b[1m8s\u001b[0m 678ms/step - accuracy: 0.9262 - loss: 1.7340 - val_accuracy: 0.9036 - val_loss: 1.8258 - learning_rate: 1.0000e-04\n",
      "Epoch 69/100\n",
      "\u001b[1m13/13\u001b[0m \u001b[32m━━━━━━━━━━━━━━━━━━━━\u001b[0m\u001b[37m\u001b[0m \u001b[1m9s\u001b[0m 647ms/step - accuracy: 0.9364 - loss: 1.6937 - val_accuracy: 0.9340 - val_loss: 1.7298 - learning_rate: 1.0000e-04\n",
      "Epoch 70/100\n",
      "\u001b[1m13/13\u001b[0m \u001b[32m━━━━━━━━━━━━━━━━━━━━\u001b[0m\u001b[37m\u001b[0m \u001b[1m9s\u001b[0m 666ms/step - accuracy: 0.9446 - loss: 1.6778 - val_accuracy: 0.9086 - val_loss: 1.7376 - learning_rate: 1.0000e-04\n",
      "Epoch 71/100\n",
      "\u001b[1m13/13\u001b[0m \u001b[32m━━━━━━━━━━━━━━━━━━━━\u001b[0m\u001b[37m\u001b[0m \u001b[1m8s\u001b[0m 624ms/step - accuracy: 0.9511 - loss: 1.6679 - val_accuracy: 0.8325 - val_loss: 1.9529 - learning_rate: 1.0000e-04\n",
      "Epoch 72/100\n",
      "\u001b[1m13/13\u001b[0m \u001b[32m━━━━━━━━━━━━━━━━━━━━\u001b[0m\u001b[37m\u001b[0m \u001b[1m9s\u001b[0m 646ms/step - accuracy: 0.9420 - loss: 1.6473 - val_accuracy: 0.8934 - val_loss: 1.7452 - learning_rate: 1.0000e-04\n",
      "Epoch 73/100\n",
      "\u001b[1m13/13\u001b[0m \u001b[32m━━━━━━━━━━━━━━━━━━━━\u001b[0m\u001b[37m\u001b[0m \u001b[1m8s\u001b[0m 668ms/step - accuracy: 0.9197 - loss: 1.6666 - val_accuracy: 0.9188 - val_loss: 1.6963 - learning_rate: 1.0000e-04\n",
      "Epoch 74/100\n",
      "\u001b[1m13/13\u001b[0m \u001b[32m━━━━━━━━━━━━━━━━━━━━\u001b[0m\u001b[37m\u001b[0m \u001b[1m9s\u001b[0m 656ms/step - accuracy: 0.9632 - loss: 1.6067 - val_accuracy: 0.9442 - val_loss: 1.6327 - learning_rate: 1.0000e-04\n",
      "Epoch 75/100\n",
      "\u001b[1m13/13\u001b[0m \u001b[32m━━━━━━━━━━━━━━━━━━━━\u001b[0m\u001b[37m\u001b[0m \u001b[1m9s\u001b[0m 640ms/step - accuracy: 0.9434 - loss: 1.6276 - val_accuracy: 0.9036 - val_loss: 1.6594 - learning_rate: 1.0000e-04\n",
      "Epoch 76/100\n",
      "\u001b[1m13/13\u001b[0m \u001b[32m━━━━━━━━━━━━━━━━━━━━\u001b[0m\u001b[37m\u001b[0m \u001b[1m10s\u001b[0m 744ms/step - accuracy: 0.9493 - loss: 1.6023 - val_accuracy: 0.9340 - val_loss: 1.6305 - learning_rate: 1.0000e-04\n",
      "Epoch 77/100\n",
      "\u001b[1m13/13\u001b[0m \u001b[32m━━━━━━━━━━━━━━━━━━━━\u001b[0m\u001b[37m\u001b[0m \u001b[1m10s\u001b[0m 818ms/step - accuracy: 0.9480 - loss: 1.5951 - val_accuracy: 0.9442 - val_loss: 1.6039 - learning_rate: 1.0000e-04\n",
      "Epoch 78/100\n",
      "\u001b[1m13/13\u001b[0m \u001b[32m━━━━━━━━━━━━━━━━━━━━\u001b[0m\u001b[37m\u001b[0m \u001b[1m9s\u001b[0m 689ms/step - accuracy: 0.9642 - loss: 1.5657 - val_accuracy: 0.8832 - val_loss: 1.7162 - learning_rate: 1.0000e-04\n",
      "Epoch 79/100\n",
      "\u001b[1m13/13\u001b[0m \u001b[32m━━━━━━━━━━━━━━━━━━━━\u001b[0m\u001b[37m\u001b[0m \u001b[1m9s\u001b[0m 655ms/step - accuracy: 0.9537 - loss: 1.5818 - val_accuracy: 0.9239 - val_loss: 1.6378 - learning_rate: 1.0000e-04\n",
      "Epoch 80/100\n",
      "\u001b[1m13/13\u001b[0m \u001b[32m━━━━━━━━━━━━━━━━━━━━\u001b[0m\u001b[37m\u001b[0m \u001b[1m9s\u001b[0m 657ms/step - accuracy: 0.9664 - loss: 1.5363 - val_accuracy: 0.9594 - val_loss: 1.5451 - learning_rate: 1.0000e-04\n",
      "Epoch 81/100\n",
      "\u001b[1m13/13\u001b[0m \u001b[32m━━━━━━━━━━━━━━━━━━━━\u001b[0m\u001b[37m\u001b[0m \u001b[1m9s\u001b[0m 645ms/step - accuracy: 0.9479 - loss: 1.5431 - val_accuracy: 0.9239 - val_loss: 1.6147 - learning_rate: 1.0000e-04\n",
      "Epoch 82/100\n",
      "\u001b[1m13/13\u001b[0m \u001b[32m━━━━━━━━━━━━━━━━━━━━\u001b[0m\u001b[37m\u001b[0m \u001b[1m9s\u001b[0m 677ms/step - accuracy: 0.9552 - loss: 1.5501 - val_accuracy: 0.9391 - val_loss: 1.5730 - learning_rate: 1.0000e-04\n",
      "Epoch 83/100\n",
      "\u001b[1m13/13\u001b[0m \u001b[32m━━━━━━━━━━━━━━━━━━━━\u001b[0m\u001b[37m\u001b[0m \u001b[1m9s\u001b[0m 690ms/step - accuracy: 0.9553 - loss: 1.5250 - val_accuracy: 0.9442 - val_loss: 1.5276 - learning_rate: 1.0000e-04\n",
      "Epoch 84/100\n",
      "\u001b[1m13/13\u001b[0m \u001b[32m━━━━━━━━━━━━━━━━━━━━\u001b[0m\u001b[37m\u001b[0m \u001b[1m10s\u001b[0m 751ms/step - accuracy: 0.9657 - loss: 1.4993 - val_accuracy: 0.9645 - val_loss: 1.4839 - learning_rate: 1.0000e-04\n",
      "Epoch 85/100\n",
      "\u001b[1m13/13\u001b[0m \u001b[32m━━━━━━━━━━━━━━━━━━━━\u001b[0m\u001b[37m\u001b[0m \u001b[1m9s\u001b[0m 663ms/step - accuracy: 0.9770 - loss: 1.4753 - val_accuracy: 0.9543 - val_loss: 1.4966 - learning_rate: 1.0000e-04\n",
      "Epoch 86/100\n",
      "\u001b[1m13/13\u001b[0m \u001b[32m━━━━━━━━━━━━━━━━━━━━\u001b[0m\u001b[37m\u001b[0m \u001b[1m10s\u001b[0m 771ms/step - accuracy: 0.9522 - loss: 1.5040 - val_accuracy: 0.9239 - val_loss: 1.5307 - learning_rate: 1.0000e-04\n",
      "Epoch 87/100\n",
      "\u001b[1m13/13\u001b[0m \u001b[32m━━━━━━━━━━━━━━━━━━━━\u001b[0m\u001b[37m\u001b[0m \u001b[1m9s\u001b[0m 648ms/step - accuracy: 0.9548 - loss: 1.4846 - val_accuracy: 0.9289 - val_loss: 1.5872 - learning_rate: 1.0000e-04\n",
      "Epoch 88/100\n",
      "\u001b[1m13/13\u001b[0m \u001b[32m━━━━━━━━━━━━━━━━━━━━\u001b[0m\u001b[37m\u001b[0m \u001b[1m9s\u001b[0m 670ms/step - accuracy: 0.9586 - loss: 1.4798 - val_accuracy: 0.8985 - val_loss: 1.5808 - learning_rate: 1.0000e-04\n",
      "Epoch 89/100\n",
      "\u001b[1m13/13\u001b[0m \u001b[32m━━━━━━━━━━━━━━━━━━━━\u001b[0m\u001b[37m\u001b[0m \u001b[1m8s\u001b[0m 672ms/step - accuracy: 0.9717 - loss: 1.4237 - val_accuracy: 0.9137 - val_loss: 1.5200 - learning_rate: 1.0000e-04\n",
      "Epoch 90/100\n",
      "\u001b[1m13/13\u001b[0m \u001b[32m━━━━━━━━━━━━━━━━━━━━\u001b[0m\u001b[37m\u001b[0m \u001b[1m9s\u001b[0m 658ms/step - accuracy: 0.9645 - loss: 1.4355 - val_accuracy: 0.9289 - val_loss: 1.4839 - learning_rate: 2.0000e-05\n",
      "Epoch 91/100\n",
      "\u001b[1m13/13\u001b[0m \u001b[32m━━━━━━━━━━━━━━━━━━━━\u001b[0m\u001b[37m\u001b[0m \u001b[1m8s\u001b[0m 636ms/step - accuracy: 0.9580 - loss: 1.4330 - val_accuracy: 0.9594 - val_loss: 1.4431 - learning_rate: 2.0000e-05\n",
      "Epoch 92/100\n",
      "\u001b[1m13/13\u001b[0m \u001b[32m━━━━━━━━━━━━━━━━━━━━\u001b[0m\u001b[37m\u001b[0m \u001b[1m9s\u001b[0m 646ms/step - accuracy: 0.9656 - loss: 1.4401 - val_accuracy: 0.9594 - val_loss: 1.4434 - learning_rate: 2.0000e-05\n",
      "Epoch 93/100\n",
      "\u001b[1m13/13\u001b[0m \u001b[32m━━━━━━━━━━━━━━━━━━━━\u001b[0m\u001b[37m\u001b[0m \u001b[1m8s\u001b[0m 640ms/step - accuracy: 0.9697 - loss: 1.4111 - val_accuracy: 0.9695 - val_loss: 1.4305 - learning_rate: 2.0000e-05\n",
      "Epoch 94/100\n",
      "\u001b[1m13/13\u001b[0m \u001b[32m━━━━━━━━━━━━━━━━━━━━\u001b[0m\u001b[37m\u001b[0m \u001b[1m9s\u001b[0m 652ms/step - accuracy: 0.9506 - loss: 1.4335 - val_accuracy: 0.9645 - val_loss: 1.4329 - learning_rate: 2.0000e-05\n",
      "Epoch 95/100\n",
      "\u001b[1m13/13\u001b[0m \u001b[32m━━━━━━━━━━━━━━━━━━━━\u001b[0m\u001b[37m\u001b[0m \u001b[1m9s\u001b[0m 697ms/step - accuracy: 0.9710 - loss: 1.4133 - val_accuracy: 0.9746 - val_loss: 1.4125 - learning_rate: 2.0000e-05\n",
      "Epoch 96/100\n",
      "\u001b[1m13/13\u001b[0m \u001b[32m━━━━━━━━━━━━━━━━━━━━\u001b[0m\u001b[37m\u001b[0m \u001b[1m9s\u001b[0m 701ms/step - accuracy: 0.9761 - loss: 1.3958 - val_accuracy: 0.9746 - val_loss: 1.4157 - learning_rate: 2.0000e-05\n",
      "Epoch 97/100\n",
      "\u001b[1m13/13\u001b[0m \u001b[32m━━━━━━━━━━━━━━━━━━━━\u001b[0m\u001b[37m\u001b[0m \u001b[1m9s\u001b[0m 687ms/step - accuracy: 0.9691 - loss: 1.4059 - val_accuracy: 0.9492 - val_loss: 1.4252 - learning_rate: 2.0000e-05\n",
      "Epoch 98/100\n",
      "\u001b[1m13/13\u001b[0m \u001b[32m━━━━━━━━━━━━━━━━━━━━\u001b[0m\u001b[37m\u001b[0m \u001b[1m9s\u001b[0m 677ms/step - accuracy: 0.9880 - loss: 1.3628 - val_accuracy: 0.9695 - val_loss: 1.4131 - learning_rate: 2.0000e-05\n",
      "Epoch 99/100\n",
      "\u001b[1m13/13\u001b[0m \u001b[32m━━━━━━━━━━━━━━━━━━━━\u001b[0m\u001b[37m\u001b[0m \u001b[1m9s\u001b[0m 704ms/step - accuracy: 0.9701 - loss: 1.3916 - val_accuracy: 0.9695 - val_loss: 1.4076 - learning_rate: 2.0000e-05\n",
      "Epoch 100/100\n",
      "\u001b[1m13/13\u001b[0m \u001b[32m━━━━━━━━━━━━━━━━━━━━\u001b[0m\u001b[37m\u001b[0m \u001b[1m9s\u001b[0m 724ms/step - accuracy: 0.9665 - loss: 1.4139 - val_accuracy: 0.9442 - val_loss: 1.4334 - learning_rate: 2.0000e-05\n"
     ]
    }
   ],
   "source": [
    "# Train the model using data augmentation with callbacks\n",
    "history = model.fit(datagen.flow(X_train, y_train, batch_size=64), \n",
    "                    epochs=100, \n",
    "                    validation_data=(X_test, y_test), \n",
    "                    callbacks=[early_stopping, reduce_lr])"
   ]
  },
  {
   "cell_type": "markdown",
   "id": "d506391f-0b76-48e8-8d0d-f61738459327",
   "metadata": {},
   "source": [
    "# Evaluating the Model"
   ]
  },
  {
   "cell_type": "code",
   "execution_count": 28,
   "id": "0daf8171-10db-4177-9d61-211c802ff35f",
   "metadata": {
    "tags": []
   },
   "outputs": [
    {
     "name": "stdout",
     "output_type": "stream",
     "text": [
      "\u001b[1m25/25\u001b[0m \u001b[32m━━━━━━━━━━━━━━━━━━━━\u001b[0m\u001b[37m\u001b[0m \u001b[1m1s\u001b[0m 15ms/step - accuracy: 0.9876 - loss: 1.3401\n",
      "Train accuracy: 98.98%\n",
      "\u001b[1m7/7\u001b[0m \u001b[32m━━━━━━━━━━━━━━━━━━━━\u001b[0m\u001b[37m\u001b[0m \u001b[1m0s\u001b[0m 12ms/step - accuracy: 0.9626 - loss: 1.4295\n",
      "Test accuracy: 96.95%\n"
     ]
    }
   ],
   "source": [
    "# Evaluate the model\n",
    "train_loss, train_accuracy = model.evaluate(X_train, y_train)\n",
    "print(f'Train accuracy: {train_accuracy*100:.2f}%')\n",
    "\n",
    "test_loss, test_accuracy = model.evaluate(X_test, y_test)\n",
    "print(f'Test accuracy: {test_accuracy*100:.2f}%')"
   ]
  },
  {
   "cell_type": "markdown",
   "id": "31d20dbe-a193-47ea-8738-495e5bdb2bb1",
   "metadata": {},
   "source": [
    "# Save the model"
   ]
  },
  {
   "cell_type": "code",
   "execution_count": 11,
   "id": "af0de7c8-4a0b-433a-8350-14a6201b5244",
   "metadata": {
    "tags": []
   },
   "outputs": [],
   "source": [
    "# Save the model\n",
    "model.save('C:/Users/motun/Downloads/saved_model.keras')"
   ]
  },
  {
   "cell_type": "markdown",
   "id": "a0d74cd7-cf04-43b5-871f-5504a7cfffbf",
   "metadata": {},
   "source": [
    "# Plotting Accuracy and Loss"
   ]
  },
  {
   "cell_type": "code",
   "execution_count": 12,
   "id": "903c7d3c-4c70-4de1-a3c8-44474c192b73",
   "metadata": {
    "tags": []
   },
   "outputs": [
    {
     "data": {
      "image/png": "[encoded data removed]",
      "text/plain": [
       "<Figure size 1200x400 with 2 Axes>"
      ]
     },
     "metadata": {},
     "output_type": "display_data"
    }
   ],
   "source": [
    "# Plotting accuracy and loss\n",
    "plt.figure(figsize=(12, 4))\n",
    "plt.subplot(1, 2, 1)\n",
    "plt.plot(history.history['accuracy'], label='train_accuracy')\n",
    "plt.plot(history.history['val_accuracy'], label='val_accuracy')\n",
    "plt.xlabel('Epochs')\n",
    "plt.ylabel('Accuracy')\n",
    "plt.legend()\n",
    "plt.title('Accuracy over epochs')\n",
    "\n",
    "plt.subplot(1, 2, 2)\n",
    "plt.plot(history.history['loss'], label='train_loss')\n",
    "plt.plot(history.history['val_loss'], label='val_loss')\n",
    "plt.xlabel('Epochs')\n",
    "plt.ylabel('Loss')\n",
    "plt.legend()\n",
    "plt.title('Loss over epochs')\n",
    "\n",
    "plt.show()"
   ]
  },
  {
   "cell_type": "markdown",
   "id": "a32e266e-581f-4008-b144-c7c611cb27b6",
   "metadata": {},
   "source": [
    "# Load and preprocess the image"
   ]
  },
  {
   "cell_type": "code",
   "execution_count": 81,
   "id": "84938f13-3530-42e2-a931-d9c9a926c228",
   "metadata": {
    "tags": []
   },
   "outputs": [
    {
     "name": "stdout",
     "output_type": "stream",
     "text": [
      "\u001b[1m1/1\u001b[0m \u001b[32m━━━━━━━━━━━━━━━━━━━━\u001b[0m\u001b[37m\u001b[0m \u001b[1m0s\u001b[0m 236ms/step\n",
      "[[0.1426 0.1404 0.1462 0.146  0.1323 0.1449 0.1473]]\n",
      "surprise\n"
     ]
    }
   ],
   "source": [
    "# Load and preprocess the image\n",
    "from tensorflow.keras.preprocessing import image\n",
    "img_pred = image.load_img(r\"C:\\Users\\motun\\OneDrive\\Desktop\\Random_test\\surprise1.png\", target_size=(48, 48), color_mode='grayscale')\n",
    "img_pred = image.img_to_array(img_pred)\n",
    "img_pred = img_pred / 255.0  # Normalize the image\n",
    "img_pred = np.expand_dims(img_pred, axis=0)  # Add batch dimension\n",
    "img_pred = np.expand_dims(img_pred, axis=-1)  # Add channel dimension if missing\n",
    "\n",
    "# Make prediction\n",
    "rslt = model.predict(img_pred)\n",
    "\n",
    "# Print results\n",
    "print(rslt)\n",
    "print(CATAGORIES[np.argmax(rslt)])"
   ]
  },
  {
   "cell_type": "code",
   "execution_count": 82,
   "id": "a3d044ca-7f48-41e0-94dd-044c9a8d4bda",
   "metadata": {
    "tags": []
   },
   "outputs": [
    {
     "name": "stdout",
     "output_type": "stream",
     "text": [
      "\u001b[1m1/1\u001b[0m \u001b[32m━━━━━━━━━━━━━━━━━━━━\u001b[0m\u001b[37m\u001b[0m \u001b[1m0s\u001b[0m 54ms/step\n",
      "[[0.1451 0.1434 0.1512 0.1439 0.1342 0.1406 0.1411]]\n",
      "disgust\n"
     ]
    }
   ],
   "source": [
    "# Load and preprocess the image\n",
    "from tensorflow.keras.preprocessing import image\n",
    "img_pred = image.load_img(r\"C:\\Users\\motun\\OneDrive\\Desktop\\Random_test\\disgust.png\", target_size=(48, 48), color_mode='grayscale')\n",
    "img_pred = image.img_to_array(img_pred)\n",
    "img_pred = img_pred / 255.0  # Normalize the image\n",
    "img_pred = np.expand_dims(img_pred, axis=0)  # Add batch dimension\n",
    "img_pred = np.expand_dims(img_pred, axis=-1)  # Add channel dimension if missing\n",
    "\n",
    "# Make prediction\n",
    "rslt = model.predict(img_pred)\n",
    "\n",
    "# Print results\n",
    "print(rslt)\n",
    "print(CATAGORIES[np.argmax(rslt)])"
   ]
  },
  {
   "cell_type": "code",
   "execution_count": 83,
   "id": "8b32f344-f1b7-4ab4-a3ef-00a0ea996765",
   "metadata": {
    "tags": []
   },
   "outputs": [
    {
     "name": "stdout",
     "output_type": "stream",
     "text": [
      "\u001b[1m1/1\u001b[0m \u001b[32m━━━━━━━━━━━━━━━━━━━━\u001b[0m\u001b[37m\u001b[0m \u001b[1m0s\u001b[0m 37ms/step\n",
      "[[0.1444 0.1487 0.1476 0.1436 0.1354 0.1409 0.1409]]\n",
      "contempt\n"
     ]
    }
   ],
   "source": [
    "# Load and preprocess the image\n",
    "from tensorflow.keras.preprocessing import image\n",
    "img_pred = image.load_img(r\"C:\\Users\\motun\\OneDrive\\Desktop\\Random_test\\contempt.png\", target_size=(48, 48), color_mode='grayscale')\n",
    "img_pred = image.img_to_array(img_pred)\n",
    "img_pred = img_pred / 255.0  # Normalize the image\n",
    "img_pred = np.expand_dims(img_pred, axis=0)  # Add batch dimension\n",
    "img_pred = np.expand_dims(img_pred, axis=-1)  # Add channel dimension if missing\n",
    "\n",
    "# Make prediction\n",
    "rslt = model.predict(img_pred)\n",
    "\n",
    "# Print results\n",
    "print(rslt)\n",
    "print(CATAGORIES[np.argmax(rslt)])"
   ]
  },
  {
   "cell_type": "code",
   "execution_count": 84,
   "id": "8ecead25-719f-4b8f-8b93-377b50bb7501",
   "metadata": {
    "tags": []
   },
   "outputs": [
    {
     "name": "stdout",
     "output_type": "stream",
     "text": [
      "\u001b[1m1/1\u001b[0m \u001b[32m━━━━━━━━━━━━━━━━━━━━\u001b[0m\u001b[37m\u001b[0m \u001b[1m0s\u001b[0m 52ms/step\n",
      "[[0.1482 0.143  0.1444 0.1467 0.1294 0.1405 0.1472]]\n",
      "anger\n"
     ]
    }
   ],
   "source": [
    "# Load and preprocess the image\n",
    "from tensorflow.keras.preprocessing import image\n",
    "img_pred = image.load_img(r\"C:\\Users\\motun\\OneDrive\\Desktop\\Random_test\\anger.png\", target_size=(48, 48), color_mode='grayscale')\n",
    "img_pred = image.img_to_array(img_pred)\n",
    "img_pred = img_pred / 255.0  # Normalize the image\n",
    "img_pred = np.expand_dims(img_pred, axis=0)  # Add batch dimension\n",
    "img_pred = np.expand_dims(img_pred, axis=-1)  # Add channel dimension if missing\n",
    "\n",
    "# Make prediction\n",
    "rslt = model.predict(img_pred)\n",
    "\n",
    "# Print results\n",
    "print(rslt)\n",
    "print(CATAGORIES[np.argmax(rslt)])"
   ]
  },
  {
   "cell_type": "code",
   "execution_count": 85,
   "id": "c3e53938-7cdf-4eb8-aac8-50b685bd9d63",
   "metadata": {
    "tags": []
   },
   "outputs": [
    {
     "ename": "SyntaxError",
     "evalue": "(unicode error) 'unicodeescape' codec can't decode bytes in position 2-3: truncated \\UXXXXXXXX escape (3924610665.py, line 1)",
     "output_type": "error",
     "traceback": [
      "\u001b[1;36m  Cell \u001b[1;32mIn[85], line 1\u001b[1;36m\u001b[0m\n\u001b[1;33m    \"C:\\Users\\motun\\Downloads\\20240613_015000.png\"\u001b[0m\n\u001b[1;37m                                                  ^\u001b[0m\n\u001b[1;31mSyntaxError\u001b[0m\u001b[1;31m:\u001b[0m (unicode error) 'unicodeescape' codec can't decode bytes in position 2-3: truncated \\UXXXXXXXX escape\n"
     ]
    }
   ],
   "source": [
    "\"C:\\Users\\motun\\Downloads\\20240613_015000.png\""
   ]
  },
  {
   "cell_type": "code",
   "execution_count": 86,
   "id": "c7afe880-e889-42b2-aa9d-2c82d254fa5c",
   "metadata": {
    "tags": []
   },
   "outputs": [
    {
     "name": "stdout",
     "output_type": "stream",
     "text": [
      "\u001b[1m1/1\u001b[0m \u001b[32m━━━━━━━━━━━━━━━━━━━━\u001b[0m\u001b[37m\u001b[0m \u001b[1m0s\u001b[0m 73ms/step\n",
      "[[0.1442 0.1437 0.151  0.1469 0.1295 0.1425 0.1421]]\n",
      "disgust\n"
     ]
    }
   ],
   "source": [
    "# Load and preprocess the image\n",
    "from tensorflow.keras.preprocessing import image\n",
    "img_pred = image.load_img(r\"C:\\Users\\motun\\Downloads\\20240613_015000.png\", target_size=(48, 48), color_mode='grayscale')\n",
    "img_pred = image.img_to_array(img_pred)\n",
    "img_pred = img_pred / 255.0  # Normalize the image\n",
    "img_pred = np.expand_dims(img_pred, axis=0)  # Add batch dimension\n",
    "img_pred = np.expand_dims(img_pred, axis=-1)  # Add channel dimension if missing\n",
    "\n",
    "# Make prediction\n",
    "rslt = model.predict(img_pred)\n",
    "\n",
    "# Print results\n",
    "print(rslt)\n",
    "print(CATAGORIES[np.argmax(rslt)])"
   ]
  },
  {
   "cell_type": "code",
   "execution_count": null,
   "id": "639bc650-3d55-4fb7-8d06-e1d8c5ec1c40",
   "metadata": {},
   "outputs": [],
   "source": []
  }
 ],
 "metadata": {
  "kernelspec": {
   "display_name": "Python 3 (ipykernel)",
   "language": "python",
   "name": "python3"
  },
  "language_info": {
   "codemirror_mode": {
    "name": "ipython",
    "version": 3
   },
   "file_extension": ".py",
   "mimetype": "text/x-python",
   "name": "python",
   "nbconvert_exporter": "python",
   "pygments_lexer": "ipython3",
   "version": "3.11.5"
  }
 },
 "nbformat": 4,
 "nbformat_minor": 5
}
